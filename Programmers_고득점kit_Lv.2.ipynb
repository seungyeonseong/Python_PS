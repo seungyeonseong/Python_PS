{
 "cells": [
  {
   "cell_type": "markdown",
   "id": "3b687fd1",
   "metadata": {},
   "source": [
    "## 해시"
   ]
  },
  {
   "cell_type": "markdown",
   "id": "3db378c1",
   "metadata": {},
   "source": [
    "전화번호 목록"
   ]
  },
  {
   "cell_type": "code",
   "execution_count": null,
   "id": "39c63de5",
   "metadata": {},
   "outputs": [],
   "source": [
    "def solution(phone_book):\n",
    "    answer = True\n",
    "    phone_book = sorted(phone_book)\n",
    "    for i in range(len(phone_book)-1):\n",
    "        l = len(phone_book[i])\n",
    "        if len(phone_book[i+1])<l:\n",
    "                    continue\n",
    "        if phone_book[i+1][:l]==phone_book[i]:\n",
    "            answer = False\n",
    "            return answer\n",
    "    return answer"
   ]
  },
  {
   "cell_type": "markdown",
   "id": "877a6c0e",
   "metadata": {},
   "source": [
    "## 스택/큐"
   ]
  },
  {
   "cell_type": "markdown",
   "id": "fb51b595",
   "metadata": {},
   "source": [
    "올바른 괄호"
   ]
  },
  {
   "cell_type": "code",
   "execution_count": null,
   "id": "63071a4d",
   "metadata": {},
   "outputs": [],
   "source": [
    "from collections import deque\n",
    "\n",
    "def solution(s):\n",
    "    answer = True\n",
    "\n",
    "    q = deque()\n",
    "    for i in s:\n",
    "        if i ==\"(\":\n",
    "            q.append(i)\n",
    "        elif len(q)>0:\n",
    "            if q[-1]==\"(\":\n",
    "                q.popleft()\n",
    "        else:\n",
    "            return False\n",
    "    if len(q) >0:\n",
    "        answer = False\n",
    "    return answer"
   ]
  },
  {
   "cell_type": "markdown",
   "id": "0746fccf",
   "metadata": {},
   "source": [
    "## 힙"
   ]
  },
  {
   "cell_type": "markdown",
   "id": "14fec626",
   "metadata": {},
   "source": [
    "더맵게"
   ]
  },
  {
   "cell_type": "code",
   "execution_count": null,
   "id": "c4dba2c1",
   "metadata": {},
   "outputs": [],
   "source": [
    "import heapq\n",
    "\n",
    "def solution(scoville, K):\n",
    "    answer = 0\n",
    "    heapq.heapify(scoville)\n",
    "    while scoville[0] < K and len(scoville) !=1 :\n",
    "        if scoville[0] >=K:\n",
    "            return answer\n",
    "        answer +=1\n",
    "        h1 = heapq.heappop(scoville)\n",
    "        h2 = heapq.heappop(scoville)\n",
    "        new = h1 +2*h2\n",
    "        heapq.heappush(scoville,new)\n",
    "    if scoville[0] <= K:\n",
    "        answer = -1\n",
    "    return answer\n"
   ]
  },
  {
   "cell_type": "markdown",
   "id": "52f8ee2a",
   "metadata": {},
   "source": [
    "## 정렬"
   ]
  },
  {
   "cell_type": "markdown",
   "id": "1b26b3f5",
   "metadata": {},
   "source": [
    "가장 큰 수"
   ]
  },
  {
   "cell_type": "code",
   "execution_count": 48,
   "id": "c8ce247f",
   "metadata": {},
   "outputs": [
    {
     "data": {
      "text/plain": [
       "'0'"
      ]
     },
     "execution_count": 48,
     "metadata": {},
     "output_type": "execute_result"
    }
   ],
   "source": [
    "numbers = [0,0,0,0]\n",
    "\n",
    "#1. 순서대로 정렬\n",
    "def solution(numbers):\n",
    "    answer = \"\"\n",
    "    li =[]\n",
    "    for i in numbers:\n",
    "        x = str(i)*4\n",
    "        li.append([i,x[:4]])\n",
    "    li = sorted(li,key = lambda x:x[1],reverse =True)\n",
    "    for i in li:\n",
    "        answer += str(i[0])\n",
    "        \n",
    "    answer = int(answer)\n",
    "\n",
    "    return str(answer)\n",
    "\n",
    "solution(numbers)\n",
    "\n"
   ]
  },
  {
   "cell_type": "markdown",
   "id": "682cb118",
   "metadata": {},
   "source": [
    "## 완전탐색"
   ]
  },
  {
   "cell_type": "markdown",
   "id": "945ff1e0",
   "metadata": {},
   "source": [
    "피로도"
   ]
  },
  {
   "cell_type": "code",
   "execution_count": 56,
   "id": "c34d2521",
   "metadata": {},
   "outputs": [
    {
     "data": {
      "text/plain": [
       "3"
      ]
     },
     "execution_count": 56,
     "metadata": {},
     "output_type": "execute_result"
    }
   ],
   "source": [
    "import itertools\n",
    "\n",
    "def solution(k, dungeons):\n",
    "    answer = -1\n",
    "    li = [i for i in range(len(dungeons))]\n",
    "    for s in itertools.permutations(li,len(dungeons)):\n",
    "        tk = k\n",
    "        num = 0\n",
    "        for i in s:\n",
    "            if tk >= dungeons[i][0]:\n",
    "                tk -= dungeons[i][1]\n",
    "                num += 1\n",
    "        answer = max(answer,num)\n",
    "\n",
    "    return answer"
   ]
  },
  {
   "cell_type": "markdown",
   "id": "76a26700",
   "metadata": {},
   "source": [
    "## 탐욕법"
   ]
  },
  {
   "cell_type": "markdown",
   "id": "a310e8ed",
   "metadata": {},
   "source": [
    "큰 수 만들기"
   ]
  },
  {
   "cell_type": "code",
   "execution_count": null,
   "id": "85a35cc3",
   "metadata": {},
   "outputs": [],
   "source": [
    "def solution(number, k):\n",
    "    stack = []\n",
    "    n = len(number)-k\n",
    "    for i in number:\n",
    "        while stack and stack[-1] < i and k >0:\n",
    "            k -=1\n",
    "            stack.pop()\n",
    "        stack.append(i)\n",
    "    if k != 0:\n",
    "        stack = stack[:-k]\n",
    "    return \"\".join(stack)"
   ]
  },
  {
   "cell_type": "markdown",
   "id": "433dccaf",
   "metadata": {},
   "source": [
    "## DFS/BFS"
   ]
  },
  {
   "cell_type": "markdown",
   "id": "fc8929e8",
   "metadata": {},
   "source": [
    "타겟 넘버"
   ]
  },
  {
   "cell_type": "code",
   "execution_count": 59,
   "id": "b5aa3b64",
   "metadata": {},
   "outputs": [
    {
     "data": {
      "text/plain": [
       "10"
      ]
     },
     "execution_count": 59,
     "metadata": {},
     "output_type": "execute_result"
    }
   ],
   "source": [
    "maps = [[1,0,1,1,1],[1,0,1,0,1],[1,0,1,1,1],[1,1,1,0,1],[0,0,0,0,1]]\n",
    "\n",
    "\n",
    "from collections import deque\n",
    "\n",
    "dx = [1,0,-1,0]\n",
    "dy = [0,1,0,-1]\n",
    "\n",
    "\n",
    "def solution(maps):\n",
    "    n = len(maps)\n",
    "    m = len(maps[0])\n",
    "    q = deque()\n",
    "    q.append((0,0))\n",
    "    maps[0][0] = 0\n",
    "    while q:\n",
    "        x,y = q.popleft()\n",
    "        for i in range(4):\n",
    "            nx = x + dx[i]\n",
    "            ny = y + dy[i]\n",
    "            if 0 <= nx <n and 0 <= ny <m and maps[nx][ny]==1:\n",
    "                maps[nx][ny] = maps[x][y] + 1\n",
    "                q.append((nx,ny))\n",
    "        \n",
    "    if maps[n-1][m-1]==1:\n",
    "        answer = -1\n",
    "    else:\n",
    "        answer = maps[n-1][m-1]+1\n",
    "    return answer\n",
    "\n",
    "solution(maps)"
   ]
  },
  {
   "cell_type": "code",
   "execution_count": null,
   "id": "befece86",
   "metadata": {},
   "outputs": [],
   "source": []
  }
 ],
 "metadata": {
  "kernelspec": {
   "display_name": "Python 3 (ipykernel)",
   "language": "python",
   "name": "python3"
  },
  "language_info": {
   "codemirror_mode": {
    "name": "ipython",
    "version": 3
   },
   "file_extension": ".py",
   "mimetype": "text/x-python",
   "name": "python",
   "nbconvert_exporter": "python",
   "pygments_lexer": "ipython3",
   "version": "3.9.11"
  }
 },
 "nbformat": 4,
 "nbformat_minor": 5
}
