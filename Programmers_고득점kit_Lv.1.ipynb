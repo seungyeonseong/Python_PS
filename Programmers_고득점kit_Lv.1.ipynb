{
 "cells": [
  {
   "cell_type": "markdown",
   "id": "bbdcda5d",
   "metadata": {},
   "source": [
    "## 해시"
   ]
  },
  {
   "cell_type": "markdown",
   "id": "9395f308",
   "metadata": {},
   "source": [
    "폰켓몬"
   ]
  },
  {
   "cell_type": "code",
   "execution_count": null,
   "id": "fcc2e08c",
   "metadata": {},
   "outputs": [],
   "source": [
    "def solution(nums):\n",
    "    answer = min(len(set(nums)),len(nums)//2)\n",
    "\n",
    "    return answer"
   ]
  },
  {
   "cell_type": "markdown",
   "id": "42e0c3a6",
   "metadata": {},
   "source": [
    "완주하지 못한 선수"
   ]
  },
  {
   "cell_type": "code",
   "execution_count": null,
   "id": "2abdd60d",
   "metadata": {},
   "outputs": [],
   "source": [
    "def solution(participant, completion):\n",
    "    answer = 0\n",
    "    d = dict()\n",
    "    for name in participant:\n",
    "        if name in d:\n",
    "            d[name] += 1\n",
    "        else:\n",
    "            d[name] = 1\n",
    "    \n",
    "    for name in completion:\n",
    "        d[name] -= 1\n",
    "        \n",
    "    for name in d:\n",
    "        if d[name] ==1:\n",
    "            answer = name\n",
    "\n",
    "    return answer"
   ]
  },
  {
   "cell_type": "markdown",
   "id": "042c92df",
   "metadata": {},
   "source": [
    "## 스택/큐"
   ]
  },
  {
   "cell_type": "markdown",
   "id": "c970cb30",
   "metadata": {},
   "source": [
    "같은 숫자는 싫어"
   ]
  },
  {
   "cell_type": "code",
   "execution_count": 9,
   "id": "60427dff",
   "metadata": {},
   "outputs": [
    {
     "data": {
      "text/plain": [
       "[1]"
      ]
     },
     "execution_count": 9,
     "metadata": {},
     "output_type": "execute_result"
    }
   ],
   "source": [
    "def solution(arr):\n",
    "    answer = []\n",
    "    tmp = arr[0]\n",
    "    for i in range(1,len(arr)):\n",
    "        if tmp == arr[i]:\n",
    "            continue\n",
    "        else:\n",
    "            answer.append(tmp)\n",
    "            tmp = arr[i]\n",
    "    if len(answer)==0:\n",
    "        answer.append(tmp)\n",
    "    if answer[-1] != tmp:\n",
    "        answer.append(tmp)\n",
    "        \n",
    "    return answer\n",
    "\n",
    "solution([1,1])"
   ]
  },
  {
   "cell_type": "markdown",
   "id": "2186d22a",
   "metadata": {},
   "source": [
    "## 정렬"
   ]
  },
  {
   "cell_type": "markdown",
   "id": "83465aed",
   "metadata": {},
   "source": [
    "k번째 수"
   ]
  },
  {
   "cell_type": "code",
   "execution_count": null,
   "id": "b596e94f",
   "metadata": {},
   "outputs": [],
   "source": [
    "def solution(array, commands):\n",
    "    answer = []\n",
    "    for i,j,k in commands:\n",
    "        new = sorted(array[i-1:j])\n",
    "        answer.append(new[k-1])"
   ]
  },
  {
   "cell_type": "markdown",
   "id": "33a2027d",
   "metadata": {},
   "source": [
    "## 완전탐색"
   ]
  },
  {
   "cell_type": "markdown",
   "id": "9c4506d2",
   "metadata": {},
   "source": [
    "최소직사각형"
   ]
  },
  {
   "cell_type": "code",
   "execution_count": null,
   "id": "e9046053",
   "metadata": {},
   "outputs": [],
   "source": [
    "def solution(sizes):\n",
    "    answer = [0,0]\n",
    "    for x,y in sizes:\n",
    "        #둘 중 길이가 더 긴 것\n",
    "        answer[0] = max(answer[0],max(x,y))\n",
    "        answer[1] = max(answer[1],min(x,y))\n",
    "\n",
    "    return answer[0]*answer[1]"
   ]
  },
  {
   "cell_type": "markdown",
   "id": "256e1d8d",
   "metadata": {},
   "source": [
    "모의고사"
   ]
  },
  {
   "cell_type": "code",
   "execution_count": null,
   "id": "5e4884d8",
   "metadata": {},
   "outputs": [],
   "source": [
    "def solution(answers):\n",
    "    supo = [0,0,0]\n",
    "    supo1 = [1,2,3,4,5]*(10000//5+1)\n",
    "    supo2 = [2,1,2,3,2,4,2,5]*(10000//8 +1)\n",
    "    supo3 = [3,3,1,1,2,2,4,4,5,5]*(10000//10 +1)\n",
    "    for idx,ans in enumerate(answers):\n",
    "        if ans == supo1[idx]:\n",
    "            supo[0] += 1\n",
    "        if ans == supo2[idx]:\n",
    "            supo[1] += 1\n",
    "        if ans == supo3[idx]:\n",
    "            supo[2] += 1\n",
    "    answer = [i+1 for i in range(3) if supo[i]==max(supo)]\n",
    "\n",
    "    return answer"
   ]
  },
  {
   "cell_type": "markdown",
   "id": "22aff2b0",
   "metadata": {},
   "source": [
    "## 탐욕법"
   ]
  },
  {
   "cell_type": "markdown",
   "id": "348a1403",
   "metadata": {},
   "source": [
    "체육복"
   ]
  },
  {
   "cell_type": "code",
   "execution_count": 11,
   "id": "e318f695",
   "metadata": {},
   "outputs": [
    {
     "data": {
      "text/plain": [
       "5"
      ]
     },
     "execution_count": 11,
     "metadata": {},
     "output_type": "execute_result"
    }
   ],
   "source": [
    "def solution(n, lost, reserve):\n",
    "    los = list(set(lost)-set(reserve))\n",
    "    res = list(set(reserve)-set(lost))\n",
    "    \n",
    "    answer = n-len(los)\n",
    "    \n",
    "    for i in los:\n",
    "        if i-1 in res:\n",
    "            answer += 1\n",
    "            res.remove(i-1)\n",
    "        elif i+1 in res:\n",
    "            answer += 1\n",
    "            res.remove(i+1)\n",
    "            \n",
    "    \n",
    "    return answer"
   ]
  }
 ],
 "metadata": {
  "kernelspec": {
   "display_name": "Python 3 (ipykernel)",
   "language": "python",
   "name": "python3"
  },
  "language_info": {
   "codemirror_mode": {
    "name": "ipython",
    "version": 3
   },
   "file_extension": ".py",
   "mimetype": "text/x-python",
   "name": "python",
   "nbconvert_exporter": "python",
   "pygments_lexer": "ipython3",
   "version": "3.9.11"
  }
 },
 "nbformat": 4,
 "nbformat_minor": 5
}
